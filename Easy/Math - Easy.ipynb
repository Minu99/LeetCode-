{
 "cells": [
  {
   "cell_type": "markdown",
   "id": "f10199d0",
   "metadata": {},
   "source": [
    "# Fizz Buzz"
   ]
  },
  {
   "cell_type": "markdown",
   "id": "98218cf5",
   "metadata": {},
   "source": [
    "# Count Primes"
   ]
  },
  {
   "cell_type": "markdown",
   "id": "5df5c45a",
   "metadata": {},
   "source": [
    "# Power of Three"
   ]
  },
  {
   "cell_type": "code",
   "execution_count": 4,
   "id": "cdb671f9",
   "metadata": {},
   "outputs": [],
   "source": [
    "# Roman to Integer"
   ]
  },
  {
   "cell_type": "code",
   "execution_count": null,
   "id": "5f2a6745",
   "metadata": {},
   "outputs": [],
   "source": []
  }
 ],
 "metadata": {
  "kernelspec": {
   "display_name": "Python 3",
   "language": "python",
   "name": "python3"
  },
  "language_info": {
   "codemirror_mode": {
    "name": "ipython",
    "version": 3
   },
   "file_extension": ".py",
   "mimetype": "text/x-python",
   "name": "python",
   "nbconvert_exporter": "python",
   "pygments_lexer": "ipython3",
   "version": "3.8.8"
  }
 },
 "nbformat": 4,
 "nbformat_minor": 5
}
