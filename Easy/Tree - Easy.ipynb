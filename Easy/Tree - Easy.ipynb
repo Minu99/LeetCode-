{
 "cells": [
  {
   "cell_type": "markdown",
   "id": "59f3becf",
   "metadata": {},
   "source": [
    "# Maximum Depth of Binary Tree"
   ]
  },
  {
   "cell_type": "markdown",
   "id": "f6b51973",
   "metadata": {},
   "source": [
    "# Validate Binary Search Tree"
   ]
  },
  {
   "cell_type": "markdown",
   "id": "40009a40",
   "metadata": {},
   "source": [
    "# Symmetric Tree"
   ]
  },
  {
   "cell_type": "markdown",
   "id": "14ac9d52",
   "metadata": {},
   "source": [
    "# Binary Tree Level Order Traversal"
   ]
  },
  {
   "cell_type": "markdown",
   "id": "f06fce83",
   "metadata": {},
   "source": [
    "# Convert Sorted Array to Binary Search Tree"
   ]
  },
  {
   "cell_type": "code",
   "execution_count": null,
   "id": "46dbbdcd",
   "metadata": {},
   "outputs": [],
   "source": []
  }
 ],
 "metadata": {
  "kernelspec": {
   "display_name": "Python 3",
   "language": "python",
   "name": "python3"
  },
  "language_info": {
   "codemirror_mode": {
    "name": "ipython",
    "version": 3
   },
   "file_extension": ".py",
   "mimetype": "text/x-python",
   "name": "python",
   "nbconvert_exporter": "python",
   "pygments_lexer": "ipython3",
   "version": "3.8.8"
  }
 },
 "nbformat": 4,
 "nbformat_minor": 5
}
