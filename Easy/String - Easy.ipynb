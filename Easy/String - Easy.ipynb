{
 "cells": [
  {
   "cell_type": "markdown",
   "id": "7e613c96",
   "metadata": {},
   "source": [
    "# Reverse String"
   ]
  },
  {
   "cell_type": "markdown",
   "id": "f65c86fc",
   "metadata": {},
   "source": [
    "# Reverse Integer"
   ]
  },
  {
   "cell_type": "markdown",
   "id": "f46176c3",
   "metadata": {},
   "source": [
    "# First Unique Character in a String"
   ]
  },
  {
   "cell_type": "markdown",
   "id": "b74ba96b",
   "metadata": {},
   "source": [
    "# Valid Anagram"
   ]
  },
  {
   "cell_type": "markdown",
   "id": "d3d20e8a",
   "metadata": {},
   "source": [
    "# Valid Palindrome"
   ]
  },
  {
   "cell_type": "markdown",
   "id": "619e8a85",
   "metadata": {},
   "source": [
    "# String to Integer (atoi)"
   ]
  },
  {
   "cell_type": "markdown",
   "id": "6f5f85c5",
   "metadata": {},
   "source": [
    "# Implement strStr()"
   ]
  },
  {
   "cell_type": "markdown",
   "id": "f647be04",
   "metadata": {},
   "source": [
    "# Count and Say"
   ]
  },
  {
   "cell_type": "markdown",
   "id": "846579a8",
   "metadata": {},
   "source": [
    "# Longest Common Prefix"
   ]
  },
  {
   "cell_type": "code",
   "execution_count": null,
   "id": "1b147dbc",
   "metadata": {},
   "outputs": [],
   "source": []
  }
 ],
 "metadata": {
  "kernelspec": {
   "display_name": "Python 3",
   "language": "python",
   "name": "python3"
  },
  "language_info": {
   "codemirror_mode": {
    "name": "ipython",
    "version": 3
   },
   "file_extension": ".py",
   "mimetype": "text/x-python",
   "name": "python",
   "nbconvert_exporter": "python",
   "pygments_lexer": "ipython3",
   "version": "3.8.8"
  }
 },
 "nbformat": 4,
 "nbformat_minor": 5
}
