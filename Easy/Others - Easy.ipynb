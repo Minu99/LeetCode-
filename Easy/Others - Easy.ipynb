{
 "cells": [
  {
   "cell_type": "markdown",
   "id": "99dc89df",
   "metadata": {},
   "source": [
    "# Number of 1 Bits"
   ]
  },
  {
   "cell_type": "markdown",
   "id": "4949c298",
   "metadata": {},
   "source": [
    "# Hamming Distance"
   ]
  },
  {
   "cell_type": "markdown",
   "id": "2d5c7616",
   "metadata": {},
   "source": [
    "# Reverse Bits"
   ]
  },
  {
   "cell_type": "markdown",
   "id": "f57cd68e",
   "metadata": {},
   "source": [
    "# Pascal's Triangle"
   ]
  },
  {
   "cell_type": "markdown",
   "id": "f46f7058",
   "metadata": {},
   "source": [
    "# Valid Parentheses"
   ]
  },
  {
   "cell_type": "code",
   "execution_count": null,
   "id": "9a3837d5",
   "metadata": {},
   "outputs": [],
   "source": [
    "# Missing Number"
   ]
  }
 ],
 "metadata": {
  "kernelspec": {
   "display_name": "Python 3",
   "language": "python",
   "name": "python3"
  },
  "language_info": {
   "codemirror_mode": {
    "name": "ipython",
    "version": 3
   },
   "file_extension": ".py",
   "mimetype": "text/x-python",
   "name": "python",
   "nbconvert_exporter": "python",
   "pygments_lexer": "ipython3",
   "version": "3.8.8"
  }
 },
 "nbformat": 4,
 "nbformat_minor": 5
}
