{
 "cells": [
  {
   "cell_type": "markdown",
   "id": "7d318c94",
   "metadata": {},
   "source": [
    "# Delete Node in a Linked List"
   ]
  },
  {
   "cell_type": "markdown",
   "id": "f49bdddc",
   "metadata": {},
   "source": [
    "# Remove Nth Node From End of List"
   ]
  },
  {
   "cell_type": "markdown",
   "id": "072ef28e",
   "metadata": {},
   "source": [
    "# Reverse Linked List"
   ]
  },
  {
   "cell_type": "markdown",
   "id": "00b70ed2",
   "metadata": {},
   "source": [
    "# Merge Two Sorted Lists"
   ]
  },
  {
   "cell_type": "markdown",
   "id": "1fd783f1",
   "metadata": {},
   "source": [
    "# Palindrome Linked List"
   ]
  },
  {
   "cell_type": "markdown",
   "id": "2cd6a0a3",
   "metadata": {},
   "source": [
    "# Linked List Cycle"
   ]
  },
  {
   "cell_type": "code",
   "execution_count": null,
   "id": "66c66da2",
   "metadata": {},
   "outputs": [],
   "source": []
  }
 ],
 "metadata": {
  "kernelspec": {
   "display_name": "Python 3",
   "language": "python",
   "name": "python3"
  },
  "language_info": {
   "codemirror_mode": {
    "name": "ipython",
    "version": 3
   },
   "file_extension": ".py",
   "mimetype": "text/x-python",
   "name": "python",
   "nbconvert_exporter": "python",
   "pygments_lexer": "ipython3",
   "version": "3.8.8"
  }
 },
 "nbformat": 4,
 "nbformat_minor": 5
}
