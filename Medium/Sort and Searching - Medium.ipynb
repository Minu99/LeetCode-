{
 "cells": [
  {
   "cell_type": "markdown",
   "id": "7910354e",
   "metadata": {},
   "source": [
    "# Sort Colors"
   ]
  },
  {
   "cell_type": "markdown",
   "id": "904a0176",
   "metadata": {},
   "source": [
    "# Top K Frequent Elements"
   ]
  },
  {
   "cell_type": "markdown",
   "id": "ba97cdb0",
   "metadata": {},
   "source": [
    "# Kth Largest Element in an Array"
   ]
  },
  {
   "cell_type": "markdown",
   "id": "20c3d203",
   "metadata": {},
   "source": [
    "# Find Peak Element"
   ]
  },
  {
   "cell_type": "markdown",
   "id": "730f58e4",
   "metadata": {},
   "source": [
    "# Search for a Range"
   ]
  },
  {
   "cell_type": "markdown",
   "id": "55f4b8a8",
   "metadata": {},
   "source": [
    "# Merge Intervals"
   ]
  },
  {
   "cell_type": "markdown",
   "id": "7c27ae00",
   "metadata": {},
   "source": [
    "# Search in Rotated Sorted Array"
   ]
  },
  {
   "cell_type": "markdown",
   "id": "2cd77bea",
   "metadata": {},
   "source": [
    "# Search a 2D Matrix II"
   ]
  },
  {
   "cell_type": "code",
   "execution_count": null,
   "id": "30e08869",
   "metadata": {},
   "outputs": [],
   "source": []
  }
 ],
 "metadata": {
  "kernelspec": {
   "display_name": "Python 3",
   "language": "python",
   "name": "python3"
  },
  "language_info": {
   "codemirror_mode": {
    "name": "ipython",
    "version": 3
   },
   "file_extension": ".py",
   "mimetype": "text/x-python",
   "name": "python",
   "nbconvert_exporter": "python",
   "pygments_lexer": "ipython3",
   "version": "3.8.8"
  }
 },
 "nbformat": 4,
 "nbformat_minor": 5
}
