{
 "cells": [
  {
   "cell_type": "markdown",
   "id": "8eb6632e",
   "metadata": {},
   "source": [
    "# Add Two Numbers"
   ]
  },
  {
   "cell_type": "code",
   "execution_count": 2,
   "id": "0361814d",
   "metadata": {},
   "outputs": [],
   "source": [
    "# Odd Even Linked List"
   ]
  },
  {
   "cell_type": "code",
   "execution_count": 3,
   "id": "24ffc465",
   "metadata": {},
   "outputs": [],
   "source": [
    "# Intersection of Two Linked Lists"
   ]
  },
  {
   "cell_type": "code",
   "execution_count": null,
   "id": "bc4a8e52",
   "metadata": {},
   "outputs": [],
   "source": []
  }
 ],
 "metadata": {
  "kernelspec": {
   "display_name": "Python 3",
   "language": "python",
   "name": "python3"
  },
  "language_info": {
   "codemirror_mode": {
    "name": "ipython",
    "version": 3
   },
   "file_extension": ".py",
   "mimetype": "text/x-python",
   "name": "python",
   "nbconvert_exporter": "python",
   "pygments_lexer": "ipython3",
   "version": "3.8.8"
  }
 },
 "nbformat": 4,
 "nbformat_minor": 5
}
