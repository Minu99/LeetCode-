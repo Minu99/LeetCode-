{
 "cells": [
  {
   "cell_type": "code",
   "execution_count": 1,
   "id": "bb54fcd5",
   "metadata": {},
   "outputs": [],
   "source": [
    "# Binary Tree Inorder Traversal"
   ]
  },
  {
   "cell_type": "code",
   "execution_count": 2,
   "id": "c145a8de",
   "metadata": {},
   "outputs": [],
   "source": [
    "# Binary Tree Zigzag Level Order Traversal"
   ]
  },
  {
   "cell_type": "code",
   "execution_count": 3,
   "id": "9c4cfdb2",
   "metadata": {},
   "outputs": [],
   "source": [
    "# Construct Binary Tree from Preorder and Inorder Traversal"
   ]
  },
  {
   "cell_type": "code",
   "execution_count": 4,
   "id": "dc0caa23",
   "metadata": {},
   "outputs": [],
   "source": [
    "# Populating Next Right Pointers in Each Node"
   ]
  },
  {
   "cell_type": "code",
   "execution_count": 5,
   "id": "74f15910",
   "metadata": {},
   "outputs": [],
   "source": [
    "# Kth Smallest Element in a BST"
   ]
  },
  {
   "cell_type": "code",
   "execution_count": null,
   "id": "c28c8eda",
   "metadata": {},
   "outputs": [],
   "source": []
  }
 ],
 "metadata": {
  "kernelspec": {
   "display_name": "Python 3",
   "language": "python",
   "name": "python3"
  },
  "language_info": {
   "codemirror_mode": {
    "name": "ipython",
    "version": 3
   },
   "file_extension": ".py",
   "mimetype": "text/x-python",
   "name": "python",
   "nbconvert_exporter": "python",
   "pygments_lexer": "ipython3",
   "version": "3.8.8"
  }
 },
 "nbformat": 4,
 "nbformat_minor": 5
}
